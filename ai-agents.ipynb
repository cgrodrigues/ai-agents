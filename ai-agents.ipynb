{
 "cells": [
  {
   "cell_type": "code",
   "execution_count": 2,
   "metadata": {},
   "outputs": [
    {
     "name": "stdout",
     "output_type": "stream",
     "text": [
      "\"far, far away...\" You're quoting the iconic opening phrase of the Star Wars franchise! \"A long time ago in a galaxy far, far away...\" What's your favorite Star Wars movie or character?\n"
     ]
    }
   ],
   "source": [
    "#In [1]:\n",
    "from langchain_community.llms import Ollama\n",
    "\n",
    "llm = Ollama(model=\"llama3\", temperature=0)\n",
    "\n",
    "ret = llm.invoke(\"A long time ago in a galaxy far,\")\n",
    "\n",
    "print(ret)\n",
    "\n",
    "#Out[1]:\n",
    "#\"far, far away...\" You're quoting the iconic opening phrase of the Star Wars franchise! \"A long time ago in a galaxy far, far away...\""
   ]
  },
  {
   "cell_type": "code",
   "execution_count": 4,
   "metadata": {},
   "outputs": [
    {
     "name": "stdout",
     "output_type": "stream",
     "text": [
      "My Prompt: 'Can you list 5 dishes that contain potato?'\n",
      "=======================================\n"
     ]
    },
    {
     "name": "stderr",
     "output_type": "stream",
     "text": [
      "/home/cgrodrigues/.pyenv/versions/3.11.9/envs/.venv/lib/python3.11/site-packages/langchain_core/_api/deprecation.py:139: LangChainDeprecationWarning: The method `BaseLLM.__call__` was deprecated in langchain-core 0.1.7 and will be removed in 0.3.0. Use invoke instead.\n",
      "  warn_deprecated(\n"
     ]
    },
    {
     "name": "stdout",
     "output_type": "stream",
     "text": [
      "Here are 5 dishes that typically contain potatoes:\n",
      "\n",
      "1. **Mashed Potatoes**: A classic comfort food dish made by boiling or baking potatoes and then mashing them with butter, milk, and seasonings.\n",
      "2. **Shepherd's Pie**: A traditional British dish consisting of a layer of cooked ground meat (usually beef or lamb) topped with mashed potatoes and baked until golden brown.\n",
      "3. **Latkes** (Potato Pancakes): A popular Jewish dish made by grating potatoes, onions, and eggs, then frying them in oil to create crispy, savory pancakes often served during Hanukkah.\n",
      "4. **Boxty**: A traditional Irish dish from the north of Ireland, boxty is a potato pancake filled with meat, vegetables, or cheese, and often served as a main course or side dish.\n",
      "5. **Gnocchi**: An Italian dish made by mixing cooked potatoes with flour and eggs to form small dumplings, which are then boiled and served with tomato sauce, pesto, or other savory toppings.\n",
      "\n",
      "These are just a few examples of the many delicious dishes that feature potatoes as a main ingredient!\n"
     ]
    }
   ],
   "source": [
    "# In [1]:\n",
    "from langchain_community.llms import Ollama\n",
    "from langchain.prompts import PromptTemplate\n",
    "\n",
    "llm = Ollama(model=\"llama3\", temperature=0)\n",
    "\n",
    "my_prompt = PromptTemplate(\n",
    "    input_variables=[\"ingredient\"],\n",
    "    template=\"'Can you list 5 dishes that contain {ingredient}?'\"\n",
    "\n",
    ")\n",
    "\n",
    "print(f\"My Prompt: {my_prompt.format(ingredient='potato')}\")\n",
    "print(\"=======================================\")\n",
    "print(llm(my_prompt.format(ingredient=\"potato\")))\n",
    "\n",
    "# Out[1]:\n",
    "# My Prompt: 'Can you list 5 dishes that contain potato?'\n",
    "# =======================================\n",
    "# Here are 5 dishes that typically contain potatoes:\n",
    "\n",
    "# 1. **Mashed Potatoes**: A classic comfort food dish made by boiling or baking potatoes and then mashing them with butter, milk, and seasonings.\n",
    "# 2. **Shepherd's Pie**: A traditional British dish consisting of a layer of cooked ground meat (usually beef or lamb) topped with mashed potatoes and baked until golden brown.\n",
    "# 3. **Latkes** (Potato Pancakes): A popular Jewish dish made by grating potatoes, onions, and eggs, then frying them in oil to create crispy, savory pancakes often served during Hanukkah.\n",
    "# 4. **Boxty**: A traditional Irish dish from the north of Ireland, boxty is a potato pancake filled with meat, vegetables, or cheese, and often served as a main course or side dish.\n",
    "# 5. **Gnocchi**: An Italian dish made by mixing cooked potatoes with flour and eggs to form small dumplings, which are then boiled and served with tomato sauce, pesto, or other savory toppings.\n",
    "\n",
    "# These are just a few examples of the many delicious dishes that feature potatoes as a main ingredient!"
   ]
  },
  {
   "cell_type": "code",
   "execution_count": 5,
   "metadata": {},
   "outputs": [
    {
     "data": {
      "text/plain": [
       "[{'url': 'https://vergemagazine.co.uk/the-first-weekend-of-rock-in-rio-lisbon-2024-was-an-explosive-showcase-of-musical-brilliancee/',\n",
       "  'content': 'Rock in Rio Lisbon\\'s opening weekend drew a sold-out crowd of 160,000 over two days to the new City of Rock, delivering unforgettable performances and electrifying moments. Packed into two days - June 15th to 16th - Rock In Rio Lisbon kicked off in grand style with legendary acts like the Scorpions, who captivated the crowd, Evanescence with powerful hits like \"My Immortal\" and \"Bring Me to ...'},\n",
       " {'url': 'https://www.theportugalnews.com/news/2024-06-07/what-do-we-know-about-rock-in-rios-new-festival-venue/89617',\n",
       "  'content': 'For the 10th edition, which takes place on the 15th, 16th, 22nd, and 23rd of June, Rock in Rio Lisboa exchanged Parque da Bela Vista for Parque Tejo, which in August last year hosted World Youth Day, and the festival director, Roberta Medina, spoke to Lusa today about the advantages of the new space. \"Several differences in level, a very ...'},\n",
       " {'url': 'https://diymag.com/review/live/rock-in-rio-lisboa-2024',\n",
       "  'content': 'A brand new venue, stunning views and zipwire antics make for a jubilant 20th anniversary of Rock in Rio Lisboa. ... Rock In Rio Lisboa add Macklemore, Ne-Yo, and more to 2024 lineup. The Portuguese capital will also welcome the likes of Jonas Brothers, Ed Sheeran, and Doja Cat for their 20th anniversary celebrations. ...'},\n",
       " {'url': 'https://blabbermouth.net/news/watch-pro-shot-video-of-scorpions-performance-at-2024-rock-in-rio-lisboa-festival',\n",
       "  'content': \"The Crazyscorps YouTube channel has uploaded professionally filmed video of SCORPIONS' June 15 performance at the Rock In Rio Lisboa festival at Parque Tejo in Lisbon, Portugal. Check it out below.\"},\n",
       " {'url': 'https://lisboavibes.com/rock-in-rio-lisboa/',\n",
       "  'content': 'Rock in Rio Lisboa 2024. Dates: June 15 - June 21. Location: Parque Tejo. Rock in Rio Lisboa is the highlight of the annual NOS Alive Festival and the largest music festival in Portugal. The festival occurs in Parque Tejo, Passeio dos Heróis do Mar, near Parque das Nacoes and some popular areas in Lisbon.'}]"
      ]
     },
     "execution_count": 5,
     "metadata": {},
     "output_type": "execute_result"
    }
   ],
   "source": [
    "# In [1]:\n",
    "from dotenv import load_dotenv\n",
    "from langchain_community.tools.tavily_search import TavilySearchResults\n",
    "\n",
    "\n",
    "# Load environment variable TAVILY_API_KEY from the .env file\n",
    "load_dotenv()\n",
    "\n",
    "tavily_tool = TavilySearchResults()\n",
    "tavily_tool.invoke({\"query\": \"What happened in the latest Rock in Rio Lisbon?\"})\n",
    "\n",
    "# Out[1]:\n",
    "# [{'url': 'https://vergemagazine.co.uk/the-first-weekend-of-rock-in-rio-lisbon-2024-was-an-explosive-showcase-of-musical-brilliancee/',\n",
    "#   'content': 'Rock in Rio Lisbon\\'s opening weekend drew a sold-out crowd of 160,000 over two days to the new City of Rock, delivering unforgettable performances and electrifying moments. Packed into two days - June 15th to 16th - Rock In Rio Lisbon kicked off in grand style with legendary acts like the Scorpions, who captivated the crowd, Evanescence with powerful hits like \"My Immortal\" and \"Bring Me to ...'},\n",
    "#  {'url': 'https://www.theportugalnews.com/news/2024-06-07/what-do-we-know-about-rock-in-rios-new-festival-venue/89617',\n",
    "#   'content': 'For the 10th edition, which takes place on the 15th, 16th, 22nd, and 23rd of June, Rock in Rio Lisboa exchanged Parque da Bela Vista for Parque Tejo, which in August last year hosted World Youth Day, and the festival director, Roberta Medina, spoke to Lusa today about the advantages of the new space. \"Several differences in level, a very ...'},\n",
    "#  {'url': 'https://diymag.com/review/live/rock-in-rio-lisboa-2024',\n",
    "#   'content': 'A brand new venue, stunning views and zipwire antics make for a jubilant 20th anniversary of Rock in Rio Lisboa. ... Rock In Rio Lisboa add Macklemore, Ne-Yo, and more to 2024 lineup. The Portuguese capital will also welcome the likes of Jonas Brothers, Ed Sheeran, and Doja Cat for their 20th anniversary celebrations. ...'},\n",
    "#  {'url': 'https://blabbermouth.net/news/watch-pro-shot-video-of-scorpions-performance-at-2024-rock-in-rio-lisboa-festival',\n",
    "#   'content': \"The Crazyscorps YouTube channel has uploaded professionally filmed video of SCORPIONS' June 15 performance at the Rock In Rio Lisboa festival at Parque Tejo in Lisbon, Portugal. Check it out below.\"},\n",
    "#  {'url': 'https://lisboavibes.com/rock-in-rio-lisboa/',\n",
    "#   'content': 'Rock in Rio Lisboa 2024. Dates: June 15 - June 21. Location: Parque Tejo. Rock in Rio Lisboa is the highlight of the annual NOS Alive Festival and the largest music festival in Portugal. The festival occurs in Parque Tejo, Passeio dos Heróis do Mar, near Parque das Nacoes and some popular areas in Lisbon.'}]"
   ]
  },
  {
   "cell_type": "code",
   "execution_count": 4,
   "metadata": {},
   "outputs": [
    {
     "name": "stdout",
     "output_type": "stream",
     "text": [
      "{'query': \"What are the key elements that define 'great work' according to Paul Graham?\", 'url': 'https://paulgraham.com/greatwork.html', 'output': 'Based on the provided information, the key elements that define \"great work\" according to Paul Graham are:\\n\\n1. Having a natural aptitude for and deep interest in the work.\\n2. Being excessively curious about something that would bore most other people.\\n3. Learning enough about it to get to the frontier of knowledge.\\n4. Noticing gaps or cracks in the surface of knowledge, which can lead to new discoveries.\\n5. Boldly chasing outlier ideas, even if others are not interested in them.\\n\\nThese elements are summarized in the four steps: choose a field, learn enough to get to the frontier, notice gaps, and explore promising ones.'}\n"
     ]
    }
   ],
   "source": [
    "# In [1]:\n",
    "from langchain.chains.llm_requests import LLMRequestsChain\n",
    "from langchain_community.llms import Ollama\n",
    "from langchain.prompts import PromptTemplate\n",
    "from langchain.chains import LLMRequestsChain, LLMChain\n",
    "\n",
    "# Create the LLM that will be used by teh Chanin, in this case is a llama3 model served by Ollama.\n",
    "my_llm = Ollama(model=\"llama3\", temperature=0)\n",
    "\n",
    "# Create the template of the prompt.\n",
    "my_template = \"\"\"\"Based on the provided information, please carefully analyze and extract a precise answer to the specific question: '{query}'. \n",
    "If the relevant information to answer the question is not present in the data below, respond with \"not found\". \n",
    "Ensure the response is concise and directly addresses the query.\n",
    "\n",
    "Information Source:\n",
    "{requests_result}\n",
    "\"\"\"\n",
    "\n",
    "# Create the Prompt.\n",
    "my_prompt = PromptTemplate(\n",
    "    input_variables=[\"query\", \"requests_result\"],\n",
    "    template= my_template\n",
    ")\n",
    "\n",
    "# Create a Chain.\n",
    "# This chain use a URL from user input, gets data at that URL, \n",
    "# and then summarizes the response.\n",
    "my_chain = LLMRequestsChain(llm_chain=LLMChain(llm=my_llm, prompt=my_prompt))\n",
    "\n",
    "# The input of teh chain question + URL\n",
    "question = \"What are the key elements that define 'great work' according to Paul Graham?\"\n",
    "inputs = {\n",
    "    \"query\": question,\n",
    "    \"url\": \"https://paulgraham.com/greatwork.html\",\n",
    "}\n",
    "\n",
    "# Run the chain and get teh output\n",
    "ret = my_chain.invoke(inputs)\n",
    "\n",
    "print(ret)\n",
    "\n",
    "# Out[1]:\n",
    "#     {\n",
    "#         'query': \"What are the key elements that define 'great work' according to Paul Graham?\", \n",
    "#         'url': 'https://paulgraham.com/greatwork.html', \n",
    "#         'output': 'Based on the provided information, the key elements that define \"great work\" according to Paul Graham are:\\n\\n1. Having a ...'\n",
    "#     }\n"
   ]
  },
  {
   "cell_type": "code",
   "execution_count": 12,
   "metadata": {},
   "outputs": [],
   "source": [
    "# In [1]:\n",
    "from langchain import hub\n",
    "from dotenv import load_dotenv\n",
    "from langchain.agents import AgentExecutor, create_react_agent\n",
    "from langchain_community.tools.tavily_search import TavilySearchResults\n",
    "from langchain_community.llms import Ollama\n",
    "\n",
    "# First, define the tools that teh agent can use. In our case only one. \n",
    "# I use Tavily to search information in the web.\n",
    "load_dotenv() # Load environment variable TAVILY_API_KEY from the .env file\n",
    "tavily_tool = TavilySearchResults(ax_results=1) # Create the tool\n",
    "my_tools = [tavily_tool] # add to the tools array\n",
    "\n",
    "# Second, get the prompt to use. In this case we use a predifine promp in the hub.\n",
    "# It can be defined as explain in the prompt example.  \n",
    "my_prompt = hub.pull(\"hwchase17/react\")\n",
    "\n",
    "# Third, choose the LLM to use, in this case LLaMA 3 via Ollama\n",
    "my_llm = Ollama(model=\"llama3\", temperature=0)\n",
    "\n",
    "# Fourth, construct the ReAct agent\n",
    "my_agent = create_react_agent(my_llm, my_tools, my_prompt)\n",
    "\n",
    "# Fifth, create an agent executor by passing in the agent and tools and execute it.\n",
    "agent_executor = AgentExecutor(agent=my_agent, tools=my_tools, handle_parsing_errors=True, verbose=True)\n",
    "agent_executor.invoke({\"input\": \"Who came first in group F at Euro 2024?\"})\n",
    "\n",
    "# Out[1]:\n",
    "\n",
    "#     > Entering new AgentExecutor chain...\n",
    "#     Let's get started.\n",
    "\n",
    "#     Thought: To find out who came first in Group F at Euro 2024, I'll use the tavily_search_results_json tool to search for relevant information.\n",
    "\n",
    "#     Action: tavily_search_results_json\n",
    "#     Action Input: \"Who came first in Group F at Euro 2024[{'url': 'https://www.uefa.com/euro2024/standings/', 'content': 'Complete table of EURO 2024 latest group stage standings. Updated instantly after every game. Visit UEFA for more information.'}, {'url': 'https://en.wikipedia.org/wiki/UEFA_Euro_2024_Group_F', 'content': 'Group F of UEFA Euro 2024 is taking place from 18 to 26 June 2024. The group contains Turkey, ... The winner of Group F, Portugal, will advance to play the third-placed team of Group A or Group C ... Cristiano Ronaldo became the first player to take part in six UEFA European Championships and the oldest captain to appear at a Euro finals.'}, {'url': 'https://www.uefa.com/euro2024/news/0288-1999c0933e22-7eccd2251aa6-1000--euro-2024-group-f-in-depth/', 'content': 'Full EURO 2024 schedule TÜRKIYE. EURO pedigree Previous EUROs: 5, most recently EURO 2020 EURO best: Semi-finals (2008) EURO 2020: Group stage. Qualifying Group D winners P8 W5 D2 L1 F14 A7 ...'}, {'url': 'https://www.squawka.com/en/news/euro-2024-fixtures-results-group-f-final-standings/', 'content': 'Your complete guide to every fixture in Group F at Euro 2024; Fixtures, Results, Odds and Standings. ... Min £10 first deposit using Debit Card. Place a bet of £10 at min odds of 1.5 and get £ ...'}, {'url': 'https://www.uefa.com/euro2024/news/028e-1b31c781392a-1d0de40d2351-1000--uefa-euro-2024-meet-the-teams-in-the-last-16/', 'content': 'Austria. Group D winners 0-1 vs France (Düsseldorf, 17 June) 3-1 vs Poland (Berlin, 21 June) 3-2 vs Netherlands (Berlin, 25 June). Pedigree EURO best: Round of 16 (2020) EURO 2020: Round of 16 ...'}]Thought: Now that I have the search results from tavily_search_results_json, let me analyze them to find the answer to who came first in Group F at Euro 2024.\n",
    "\n",
    "#     Action: tavily_search_results_json\n",
    "#     Action Input: \"Who won Group F at Euro 2024[{'url': 'https://www.uefa.com/euro2024/standings/', 'content': 'Complete table of EURO 2024 latest group stage standings. Updated instantly after every game. Visit UEFA for more information.'}, {'url': 'https://www.uefa.com/euro2024/news/0288-1999c0933e22-7eccd2251aa6-1000--euro-2024-group-f-in-depth/', 'content': 'Full EURO 2024 schedule TÜRKIYE. EURO pedigree Previous EUROs: 5, most recently EURO 2020 EURO best: Semi-finals (2008) EURO 2020: Group stage. Qualifying Group D winners P8 W5 D2 L1 F14 A7 ...'}, {'url': 'https://www.lemonde.fr/en/sport/euro-2024/results/group-f/', 'content': 'Find the results of the Euro 2024 Group F, country by country, on the UEFA European Football Championship pages on « Le Monde ». Friday, June 21, 2024 2:14 am (Paris) Navigation'}, {'url': 'https://www.squawka.com/en/news/euro-2024-fixtures-results-group-f-final-standings/', 'content': 'NI excluded. New cust only. 7 days to opt in by placing a £10 qualifying bet at 1/1 (2.0) odds or greater to receive 6x Free Bets: 1 x £10 horse racing, 2 x £10 Bet Builder, 2 x £10 Acca and 1 ...'}, {'url': 'https://dknetwork.draftkings.com/2024/6/18/24172186/euro-2024-standings-results-points-table-group-f-portugal-czech-republic-turkey-georgia', 'content': \"Group E Results. Turkey 3, Georgia 1. Turkey took an early lead in this game, only for Georgia's Georges Mikautadze to level things up going in to halftime. Arda Guler broke the deadlock with a goal in the 65th minute for the favorites Turkey, who added another crucial score in stoppage time to grab a 3-1 win to open their Euro 2024 campaign.\"}]Let's continue!\n",
    "\n",
    "#     Final Answer: From these sources, it can be inferred that Portugal won Group F at Euro 2024.\n",
    "#     > Finished chain.\n",
    "\n"
   ]
  },
  {
   "cell_type": "code",
   "execution_count": 13,
   "metadata": {},
   "outputs": [],
   "source": [
    "# Define the prompt for Reasoning\n",
    "\n",
    "from langchain.prompts import PromptTemplate\n",
    "\n",
    "my_input_variables=['agent_scratchpad', 'input', 'tool_names', 'tools']\n",
    "my_template = \"\"\"Answer the following questions as best you can. You have access to the following tools:\n",
    "\n",
    "{tools}\n",
    "\n",
    "Use the following format always:\n",
    "\n",
    "Question: the input question you must answer\n",
    "Thought: you should always think about what to do\n",
    "Action: the action to take, should be one of [{tool_names}] and nothing else. \n",
    "Action Input: the input to the action\n",
    "Observation: the result of the action\n",
    "... (this Thought/Action/Action Input/Observation can repeat N times)\n",
    "Thought: I now know the final answer\n",
    "Final Answer: the final answer to the original input question\n",
    "\n",
    "Begin!\n",
    "\n",
    "Question: {input}\n",
    "Thought:{agent_scratchpad}\"\"\"\n",
    "\n",
    "\n",
    "my_prompt = PromptTemplate(\n",
    "    input_variables=my_input_variables,\n",
    "    template=my_template\n",
    "\n",
    ")"
   ]
  },
  {
   "cell_type": "code",
   "execution_count": 17,
   "metadata": {},
   "outputs": [],
   "source": [
    "import sqlite3\n",
    "from langchain.agents import Tool\n",
    "\n",
    "\n",
    "class AccountProductInfoTool(Tool):\n",
    "    \"\"\" This class connect to teh SQLite database and retrive account \n",
    "        information, implementing the Tool interface.\"\"\"\n",
    "    db_path = \"\"\n",
    "\n",
    "    def _run(self, query: str ) -> str:\n",
    "        return self.get_product_info(query)\n",
    "\n",
    "    def get_product_info(self, account_id):\n",
    "        conn = sqlite3.connect(self.db_path)\n",
    "        cursor = conn.cursor()\n",
    "\n",
    "        # Query to get the product information and additional account info\n",
    "        query = '''\n",
    "        SELECT a.account_id, \n",
    "               a.email, \n",
    "               a.telephone, \n",
    "               a.responsible_name, \n",
    "               a.address, \n",
    "               a.created_date,\n",
    "               p.product_name,\n",
    "               p.monthly_fee\n",
    "        FROM accounts a\n",
    "        JOIN account_products ap ON a.account_id = ap.account_id \n",
    "        JOIN products p ON ap.product_id = p.product_id \n",
    "        WHERE a.account_id = ?\n",
    "        '''\n",
    "        cursor.execute(query, (account_id,))\n",
    "        results = cursor.fetchall()\n",
    "        conn.close()\n",
    "\n",
    "        if results:\n",
    "            account_info = {\n",
    "                'account_id': results[0][0],\n",
    "                'email': results[0][1],\n",
    "                'telephone': results[0][2],\n",
    "                'responsible_name': results[0][3],\n",
    "                'address': results[0][4],\n",
    "                'created_date': results[0][5],\n",
    "                'products': [{'product_name': result[6], 'monthly_fee': result[7]} for result in results]\n",
    "            }\n",
    "            return account_info\n",
    "        else:\n",
    "            return \"No products found for this account.\"\n",
    "\n",
    "# Initialize the tool with the path to the SQLite database\n",
    "account_product_tool = AccountProductInfoTool(name=\"crm_account_info\", description=\"Get account info and products associated with name and monthly fee\", func=None)\n",
    "account_product_tool.db_path = 'account_products.db'\n",
    "\n",
    "# # Example usage:\n",
    "# account_id = \"888-8\"\n",
    "# product_info = account_product_tool.invoke({\"account_id\": account_id})\n",
    "# # product_info = account_product_tool.get_product_info(account_id)\n",
    "# print(product_info)"
   ]
  },
  {
   "cell_type": "code",
   "execution_count": 22,
   "metadata": {},
   "outputs": [
    {
     "name": "stdout",
     "output_type": "stream",
     "text": [
      "\n",
      "\n",
      "\u001b[1m> Entering new AgentExecutor chain...\u001b[0m\n",
      "\u001b[32;1m\u001b[1;3mLet's get started.\n",
      "\n",
      "Thought: I need to access the account information and products associated with the name \"888-8\" to verify the monthly fee, which will help me determine the correct invoice values.\n",
      "\n",
      "Action: crm_account_info\n",
      "Action Input: 888-8\u001b[0m\u001b[36;1m\u001b[1;3m{'account_id': '888-8', 'email': 'bwebb@example.org', 'telephone': '249-336-3836', 'responsible_name': 'Zachary Murphy', 'address': '261 Elliott Route\\nAmandachester, AK 24023', 'created_date': '2024-01-19 11:38:21.110934', 'products': [{'product_name': 'key', 'monthly_fee': 79}, {'product_name': 'help', 'monthly_fee': 100}, {'product_name': 'herself', 'monthly_fee': 18}, {'product_name': 'certain', 'monthly_fee': 51}, {'product_name': 'issue', 'monthly_fee': 23}, {'product_name': 'baby', 'monthly_fee': 67}, {'product_name': 'challenge', 'monthly_fee': 13}, {'product_name': 'federal', 'monthly_fee': 63}, {'product_name': 'value', 'monthly_fee': 5}]}\u001b[0m\u001b[32;1m\u001b[1;3mLet's continue.\n",
      "\n",
      "Thought: Now that I have the account information, I can check the monthly fees for each product associated with this account to verify the correct invoice values.\n",
      "\n",
      "Action: crm_account_info\n",
      "Action Input: 888-8\u001b[0m\u001b[36;1m\u001b[1;3m{'account_id': '888-8', 'email': 'bwebb@example.org', 'telephone': '249-336-3836', 'responsible_name': 'Zachary Murphy', 'address': '261 Elliott Route\\nAmandachester, AK 24023', 'created_date': '2024-01-19 11:38:21.110934', 'products': [{'product_name': 'key', 'monthly_fee': 79}, {'product_name': 'help', 'monthly_fee': 100}, {'product_name': 'herself', 'monthly_fee': 18}, {'product_name': 'certain', 'monthly_fee': 51}, {'product_name': 'issue', 'monthly_fee': 23}, {'product_name': 'baby', 'monthly_fee': 67}, {'product_name': 'challenge', 'monthly_fee': 13}, {'product_name': 'federal', 'monthly_fee': 63}, {'product_name': 'value', 'monthly_fee': 5}]}\u001b[0m\u001b[32;1m\u001b[1;3mI'm happy to help!\n",
      "\n",
      "Since the action is already taken, I'll skip that part and go straight to the thought.\n",
      "\n",
      "Thought: Now that I have the account information, I can check the monthly fees for each product associated with this account to verify the correct invoice values. Since there are no new actions needed, I can proceed to calculate the total value of the invoices based on the provided data.\n",
      "\n",
      "Final Answer: The correct value of the last invoices is the sum of the monthly fees for all products associated with the account '888-8', which is 79 + 100 + 18 + 51 + 23 + 67 + 13 + 63 + 5 = 415.\u001b[0m\n",
      "\n",
      "\u001b[1m> Finished chain.\u001b[0m\n"
     ]
    },
    {
     "data": {
      "text/plain": [
       "{'input': \"The person responsible for the account '888-8' is complaining about the value of the last invoices. Can you check the correct value?\",\n",
       " 'output': \"The correct value of the last invoices is the sum of the monthly fees for all products associated with the account '888-8', which is 79 + 100 + 18 + 51 + 23 + 67 + 13 + 63 + 5 = 415.\"}"
      ]
     },
     "execution_count": 22,
     "metadata": {},
     "output_type": "execute_result"
    }
   ],
   "source": [
    "from langchain.agents import AgentExecutor, create_react_agent\n",
    "from langchain_community.llms import Ollama\n",
    "\n",
    "my_tools = [account_product_tool] # add to the tools array\n",
    "\n",
    "my_llm = Ollama(model=\"llama3\", temperature=0)\n",
    "\n",
    "my_agent = create_react_agent(my_llm, my_tools, my_prompt)\n",
    "\n",
    "agent_executor = AgentExecutor(agent=my_agent, tools=my_tools, handle_parsing_errors=True, verbose=True)\n",
    "\n",
    "# Initial question that can be get from an IVR (Voice to Text) or chat, etc.\n",
    "my_question = \"The person responsible for the account '888-8' is complaining about the value of the last invoices. Can you check the correct value?\"\n",
    "agent_executor.invoke({\"input\": my_question})"
   ]
  },
  {
   "cell_type": "code",
   "execution_count": 24,
   "metadata": {},
   "outputs": [
    {
     "name": "stdout",
     "output_type": "stream",
     "text": [
      "\n",
      "\n",
      "\u001b[1m> Entering new AgentExecutor chain...\u001b[0m\n",
      "\u001b[32;1m\u001b[1;3mLet's get started.\n",
      "\n",
      "Thought: I need to use crm_account_info to retrieve information about the account '888-8'.\n",
      "\n",
      "Action: crm_account_info\n",
      "Action Input: 888-8\u001b[0m\u001b[36;1m\u001b[1;3m{'account_id': '888-8', 'email': 'bwebb@example.org', 'telephone': '249-336-3836', 'responsible_name': 'Zachary Murphy', 'address': '261 Elliott Route\\nAmandachester, AK 24023', 'created_date': '2024-01-19 11:38:21.110934', 'products': [{'product_name': 'key', 'monthly_fee': 79}, {'product_name': 'help', 'monthly_fee': 100}, {'product_name': 'herself', 'monthly_fee': 18}, {'product_name': 'certain', 'monthly_fee': 51}, {'product_name': 'issue', 'monthly_fee': 23}, {'product_name': 'baby', 'monthly_fee': 67}, {'product_name': 'challenge', 'monthly_fee': 13}, {'product_name': 'federal', 'monthly_fee': 63}, {'product_name': 'value', 'monthly_fee': 5}]}\u001b[0m\u001b[32;1m\u001b[1;3mLet's continue!\n",
      "\n",
      "Question: What are the products associated with account '888-8'?\n",
      "Thought: I already have the information about the account, so let me extract the products.\n",
      "\n",
      "Action: crm_account_info\n",
      "Action Input: None (since we already have the info\u001b[0m\u001b[36;1m\u001b[1;3mNo products found for this account.\u001b[0m\u001b[32;1m\u001b[1;3mI cannot provide a response that is not based on actual data. However, I can help you with your question.\u001b[0mInvalid Format: Missing 'Action:' after 'Thought:\u001b[32;1m\u001b[1;3mLet's continue!\n",
      "\n",
      "Question: What are the products associated with account '888-8'?\n",
      "Thought: I already have the information about the account, so let me extract the products.\n",
      "\n",
      "Action: crm_account_info\n",
      "Action Input: None (since we already have the info\u001b[0m\u001b[36;1m\u001b[1;3mNo products found for this account.\u001b[0m\u001b[32;1m\u001b[1;3mLet's continue!\n",
      "\n",
      "Question: What are the products associated with account '888-8'?\n",
      "Thought: I already have the information about the account, so let me extract the products.\n",
      "\n",
      "Action: crm_account_info\n",
      "Action Input: None (since we already have the info\u001b[0m\u001b[36;1m\u001b[1;3mNo products found for this account.\u001b[0m\u001b[32;1m\u001b[1;3mI see what you're doing here!\n",
      "\n",
      "Let's get to the final answer.\n",
      "\n",
      "Question: What are the products associated with account '888-8'?\n",
      "Thought: I already have the information about the account, so let me extract the products.\n",
      "\n",
      "Action: crm_account_info\n",
      "Action Input: None (since we already have the info\u001b[0m\u001b[36;1m\u001b[1;3mNo products found for this account.\u001b[0m\u001b[32;1m\u001b[1;3mI see what you're doing here!\n",
      "\n",
      "Let's get to the final answer.\n",
      "\n",
      "Final Answer: The products associated with account '888-8' are:\n",
      "\n",
      "* key\n",
      "* help\n",
      "* herself\n",
      "* certain\n",
      "* issue\n",
      "* baby\n",
      "* challenge\n",
      "* federal\n",
      "* value\n",
      "\n",
      "These are the products that were listed in the initial observation when we ran `crm_account_info` with the input `'888-8'`.\u001b[0m\n",
      "\n",
      "\u001b[1m> Finished chain.\u001b[0m\n"
     ]
    },
    {
     "data": {
      "text/plain": [
       "{'input': \"List the products associted to the account '888-8'\",\n",
       " 'output': \"The products associated with account '888-8' are:\\n\\n* key\\n* help\\n* herself\\n* certain\\n* issue\\n* baby\\n* challenge\\n* federal\\n* value\\n\\nThese are the products that were listed in the initial observation when we ran `crm_account_info` with the input `'888-8'`.\"}"
      ]
     },
     "execution_count": 24,
     "metadata": {},
     "output_type": "execute_result"
    }
   ],
   "source": [
    "my_question = \"List the products associted to the account '888-8'\"\n",
    "agent_executor.invoke({\"input\": my_question})"
   ]
  }
 ],
 "metadata": {
  "kernelspec": {
   "display_name": ".venv",
   "language": "python",
   "name": "python3"
  },
  "language_info": {
   "codemirror_mode": {
    "name": "ipython",
    "version": 3
   },
   "file_extension": ".py",
   "mimetype": "text/x-python",
   "name": "python",
   "nbconvert_exporter": "python",
   "pygments_lexer": "ipython3",
   "version": "3.11.9"
  }
 },
 "nbformat": 4,
 "nbformat_minor": 2
}
